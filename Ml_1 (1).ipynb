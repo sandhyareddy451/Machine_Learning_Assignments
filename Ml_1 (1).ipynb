{
 "cells": [
  {
   "cell_type": "markdown",
   "id": "76bead96",
   "metadata": {},
   "source": [
    "## 1. What does one mean by the term \"machine learning\"?"
   ]
  },
  {
   "cell_type": "markdown",
   "id": "29f8690c",
   "metadata": {},
   "source": [
    "1.Machine Learning: Machine Learning is Branch of AI and Computer Science. Which focus on use of data and algorithms to Imitate the Way of Humans Learn, Gradually Improving Its Accuracy\n",
    "\n",
    "2.The Main aim of ML is to allow Computers to learn automally without Human interactions\n"
   ]
  },
  {
   "cell_type": "markdown",
   "id": "4b0ac15c",
   "metadata": {},
   "source": [
    "## 2.Can you think of 4 distinct types of issues where it shines?"
   ]
  },
  {
   "cell_type": "markdown",
   "id": "f558db8e",
   "metadata": {},
   "source": [
    "1.ML is Excellent for Complex Problems for which we have no algorithmic Solutions.\n",
    "\n",
    "2.To Replace Long Lists of Hand tuned rules to build systems that adapt to fluctuating Environments and finally help to humans to learn\n"
   ]
  },
  {
   "cell_type": "markdown",
   "id": "7cf3018f",
   "metadata": {},
   "source": [
    "## 3.What is a labeled training set, and how does it work?"
   ]
  },
  {
   "cell_type": "markdown",
   "id": "c3ee52fd",
   "metadata": {},
   "source": [
    "A  Labeled Training set is a training set that contains desired labels for each instance. It is a Portion of Dataset used to fit the (train) model for prediction of values"
   ]
  },
  {
   "cell_type": "markdown",
   "id": "b79c75e8",
   "metadata": {},
   "source": [
    "## 4.What are the two most important tasks that are supervised?"
   ]
  },
  {
   "cell_type": "markdown",
   "id": "db96e36a",
   "metadata": {},
   "source": [
    "the two most important tasks of supervised are Classification and Regression"
   ]
  },
  {
   "cell_type": "markdown",
   "id": "24285a86",
   "metadata": {},
   "source": [
    "## 5.Can you think of four examples of unsupervised tasks?"
   ]
  },
  {
   "cell_type": "markdown",
   "id": "e41f8263",
   "metadata": {},
   "source": [
    "Four common Unsupervised tasks included \n",
    "\n",
    "1.Clustering\n",
    "\n",
    "2.Visualization\n",
    "\n",
    "3.Dimensionality Reduction\n",
    "\n",
    "4.Association rule algorithm\n"
   ]
  },
  {
   "cell_type": "markdown",
   "id": "0b369ccf",
   "metadata": {},
   "source": [
    "## 6.State the machine learning model that would be best to make a robot walk through various unfamiliar terrains?\n"
   ]
  },
  {
   "cell_type": "markdown",
   "id": "ed737162",
   "metadata": {},
   "source": [
    " Reinforcement learning machine learning model that would be best to make a robot walk through various unfamiliar terrains"
   ]
  },
  {
   "cell_type": "markdown",
   "id": "9b453f32",
   "metadata": {},
   "source": [
    "\n",
    "## 7.Which algorithm will you use to divide your customers into different groups?\n"
   ]
  },
  {
   "cell_type": "markdown",
   "id": "ddb3dadb",
   "metadata": {},
   "source": [
    "By Using clustering algorithm, we can Divide Our Customers into Different Groups"
   ]
  },
  {
   "cell_type": "markdown",
   "id": "0a9b6e1b",
   "metadata": {},
   "source": [
    "## 8.Will you consider the problem of spam detection to be a supervised or unsupervised learning problem?"
   ]
  },
  {
   "cell_type": "markdown",
   "id": "a91554d8",
   "metadata": {},
   "source": [
    "spam detection to be a supervised Algorithm, Because the algorithm is fed with many emails along with their label (spam or not spam)."
   ]
  },
  {
   "cell_type": "markdown",
   "id": "1e37d9de",
   "metadata": {},
   "source": [
    "## 9. What is an online learning system?"
   ]
  },
  {
   "cell_type": "markdown",
   "id": "d133761e",
   "metadata": {},
   "source": [
    "An online learning system can learn incrementally, as opposed to a batch learning system. This makes it capable of adapting rapidly to both changing data and autonomous systems, and of training on very large quantities of data."
   ]
  },
  {
   "cell_type": "markdown",
   "id": "3ef5f7fc",
   "metadata": {},
   "source": [
    "## 10.What is out-of-core learning, and how does it differ from core learning?"
   ]
  },
  {
   "cell_type": "markdown",
   "id": "fd90465f",
   "metadata": {},
   "source": [
    "Out-of-core algorithms can handle vast quantities of data that cannot fit in a computer's main memory. An out-of-core learning algorithm chops the data into mini-batches and uses online learning techniques to learn from these mini-batches."
   ]
  },
  {
   "cell_type": "markdown",
   "id": "31130b69",
   "metadata": {},
   "source": [
    "## 11.What kind of learning algorithm makes predictions using a similarity measure?"
   ]
  },
  {
   "cell_type": "markdown",
   "id": "e7754638",
   "metadata": {},
   "source": [
    "An instance-based learning systems learns the training data by heart; then, when given a new instance, it uses a similarity measure to find the most similar learned instances and uses them to make predictions."
   ]
  },
  {
   "cell_type": "markdown",
   "id": "16fc8c76",
   "metadata": {},
   "source": [
    "## 12. What is the difference between a model parameter and a learning algorithm's hyperparameter?"
   ]
  },
  {
   "cell_type": "markdown",
   "id": "dcc76775",
   "metadata": {},
   "source": [
    "### Model Parameter: \n",
    "\n",
    "A model has one or more model parameters that determine what it will predict given a new instance (e.g. the slope of a linear model). \n",
    "\n"
   ]
  },
  {
   "cell_type": "markdown",
   "id": "4ba8b1ba",
   "metadata": {},
   "source": [
    "### Learning Algorithm:\n",
    "\n",
    "Learning Algorithm tries to find optimal values for these parameters such that the model generalizes well to new instances"
   ]
  },
  {
   "cell_type": "markdown",
   "id": "13456fa6",
   "metadata": {},
   "source": [
    "### HyperParameter: \n",
    "\n",
    "A hyperparameter is a parameter is a parameter of the learning algorithm itself, not of the model (e.g. the amount of regularization to apply)."
   ]
  },
  {
   "cell_type": "markdown",
   "id": "b60cbb90",
   "metadata": {},
   "source": [
    "## 13.What are the criteria that model-based learning algorithms look for? What is the most popular method they use to achieve success? What method do they use to make predictions?"
   ]
  },
  {
   "cell_type": "markdown",
   "id": "ff2f03ef",
   "metadata": {},
   "source": [
    "Model-based learning algorithms search for an optimal value for the model parameters such that the model will generalize well to new instances. We usually train such systems by minimizing a cost function that measures how bad the system is at making predictions on the training data, plus a penalty for model complexity if the model is regularlized. To make predictions, we feed the new instance's features into the model's prediction function, using the parameter values found by the learning algorithm."
   ]
  },
  {
   "cell_type": "markdown",
   "id": "293bce92",
   "metadata": {},
   "source": [
    "## 14. Can you name four of the most important Machine Learning challenges?"
   ]
  },
  {
   "cell_type": "markdown",
   "id": "0e5b9d1b",
   "metadata": {},
   "source": [
    "Some of the main challenges in Machine Learning are the lack of data, poor data quality, non-representative data, uninformative features, excessively simple models that under-fit the training data, and excessively complex models that overfit the data."
   ]
  },
  {
   "cell_type": "markdown",
   "id": "082c7a28",
   "metadata": {},
   "source": [
    "## 15.What happens if the model performs well on the training data but fails to generalize the results to new situations? Can you think of three different options?\n"
   ]
  },
  {
   "cell_type": "markdown",
   "id": "41b07aa0",
   "metadata": {},
   "source": [
    "If a model performs great on the training data but generalizes poorly to new instances, the model is likely overfitting the training data. Possible solutions to overfitting are getting more data, simplifying the model (selecting a simpler algorithm, reducing the number of parameters or features used, or regularizing the model), or reducing the noise in the training data."
   ]
  },
  {
   "cell_type": "markdown",
   "id": "4b065417",
   "metadata": {},
   "source": [
    "## 16.What exactly is a test set, and why would you need one?"
   ]
  },
  {
   "cell_type": "markdown",
   "id": "fc4e0ac8",
   "metadata": {},
   "source": [
    "A test set is used to estimate the generalization error that a model will make on new instances, before the model is launched in production."
   ]
  },
  {
   "cell_type": "markdown",
   "id": "171b096a",
   "metadata": {},
   "source": [
    "## 17.What is a validation set's purpose?"
   ]
  },
  {
   "cell_type": "markdown",
   "id": "a2e52b11",
   "metadata": {},
   "source": [
    " validation set is used to compare models. It makes it possible to select the best model and tune the hyperparameters."
   ]
  },
  {
   "cell_type": "markdown",
   "id": "868189b7",
   "metadata": {},
   "source": [
    "## 18.What precisely is the train-dev kit, when will you need it, how do you put it to use?"
   ]
  },
  {
   "cell_type": "markdown",
   "id": "2e44028e",
   "metadata": {},
   "source": [
    "The train-dev kit is not a commonly used term in machine learning. However, the term “train-dev set” is used in machine learning to measure how much the model is overfitting. The train-dev set is used when the training set and dev sets have different distributions. It is good practice to introduce a train-dev set that has the same distribution as the training set. The train-dev set will be used to measure how much the model is overfitting."
   ]
  },
  {
   "cell_type": "markdown",
   "id": "86329df3",
   "metadata": {},
   "source": [
    "## 19.What could go wrong if you use the test set to tune hyperparameters?"
   ]
  },
  {
   "cell_type": "markdown",
   "id": "5ba9cbfa",
   "metadata": {},
   "source": [
    "f you tune hyperparameters using the test set, you risk overfitting the test set, and the generalization error you measure will be optimistic (you may launch a model that performs worse than you expect).\n",
    "\n",
    "\n"
   ]
  }
 ],
 "metadata": {
  "kernelspec": {
   "display_name": "Python 3 (ipykernel)",
   "language": "python",
   "name": "python3"
  },
  "language_info": {
   "codemirror_mode": {
    "name": "ipython",
    "version": 3
   },
   "file_extension": ".py",
   "mimetype": "text/x-python",
   "name": "python",
   "nbconvert_exporter": "python",
   "pygments_lexer": "ipython3",
   "version": "3.9.13"
  }
 },
 "nbformat": 4,
 "nbformat_minor": 5
}
